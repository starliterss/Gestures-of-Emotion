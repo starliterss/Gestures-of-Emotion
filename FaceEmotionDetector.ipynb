{
  "cells": [
    {
      "cell_type": "code",
      "execution_count": null,
      "metadata": {
        "colab": {
          "base_uri": "https://localhost:8080/"
        },
        "id": "NRfmjQc4G-M_",
        "outputId": "72c10f87-f382-4cee-aab3-c6dbbb825ba8"
      },
      "outputs": [
        {
          "name": "stdout",
          "output_type": "stream",
          "text": [
            "Requirement already satisfied: kaggle in /usr/local/lib/python3.10/dist-packages (1.5.16)\n",
            "Requirement already satisfied: six>=1.10 in /usr/local/lib/python3.10/dist-packages (from kaggle) (1.16.0)\n",
            "Requirement already satisfied: certifi in /usr/local/lib/python3.10/dist-packages (from kaggle) (2023.7.22)\n",
            "Requirement already satisfied: python-dateutil in /usr/local/lib/python3.10/dist-packages (from kaggle) (2.8.2)\n",
            "Requirement already satisfied: requests in /usr/local/lib/python3.10/dist-packages (from kaggle) (2.31.0)\n",
            "Requirement already satisfied: tqdm in /usr/local/lib/python3.10/dist-packages (from kaggle) (4.66.1)\n",
            "Requirement already satisfied: python-slugify in /usr/local/lib/python3.10/dist-packages (from kaggle) (8.0.1)\n",
            "Requirement already satisfied: urllib3 in /usr/local/lib/python3.10/dist-packages (from kaggle) (2.0.4)\n",
            "Requirement already satisfied: bleach in /usr/local/lib/python3.10/dist-packages (from kaggle) (6.0.0)\n",
            "Requirement already satisfied: webencodings in /usr/local/lib/python3.10/dist-packages (from bleach->kaggle) (0.5.1)\n",
            "Requirement already satisfied: text-unidecode>=1.3 in /usr/local/lib/python3.10/dist-packages (from python-slugify->kaggle) (1.3)\n",
            "Requirement already satisfied: charset-normalizer<4,>=2 in /usr/local/lib/python3.10/dist-packages (from requests->kaggle) (3.2.0)\n",
            "Requirement already satisfied: idna<4,>=2.5 in /usr/local/lib/python3.10/dist-packages (from requests->kaggle) (3.4)\n"
          ]
        }
      ],
      "source": [
        "!pip install kaggle"
      ]
    },
    {
      "cell_type": "code",
      "execution_count": null,
      "metadata": {
        "id": "M3rqTmdXHNbv"
      },
      "outputs": [],
      "source": [
        "!mkdir -p ~/.kaggle\n",
        "!cp kaggle.json ~/.kaggle/\n",
        "!chmod 600 ~/.kaggle/kaggle.json"
      ]
    },
    {
      "cell_type": "code",
      "execution_count": null,
      "metadata": {
        "colab": {
          "base_uri": "https://localhost:8080/"
        },
        "id": "72C4oXlDHQ8g",
        "outputId": "0fd32b9b-3437-4bda-92da-5877bcf30d3b"
      },
      "outputs": [
        {
          "name": "stdout",
          "output_type": "stream",
          "text": [
            "Downloading face-expression-recognition-dataset.zip to /content\n",
            " 85% 103M/121M [00:00<00:00, 233MB/s] \n",
            "100% 121M/121M [00:00<00:00, 154MB/s]\n"
          ]
        }
      ],
      "source": [
        "!kaggle datasets download -d jonathanoheix/face-expression-recognition-dataset"
      ]
    },
    {
      "cell_type": "code",
      "execution_count": null,
      "metadata": {
        "colab": {
          "base_uri": "https://localhost:8080/"
        },
        "id": "uy-DyyrZjdRQ",
        "outputId": "f627a909-a199-4138-e61c-6ac567aff1a9"
      },
      "outputs": [
        {
          "name": "stdout",
          "output_type": "stream",
          "text": [
            "The dataset is extracted\n"
          ]
        }
      ],
      "source": [
        "from zipfile import ZipFile\n",
        "dataset = '/content/face-expression-recognition-dataset.zip'\n",
        "\n",
        "with ZipFile(dataset,'r') as zip:\n",
        "  zip.extractall()\n",
        "  print('The dataset is extracted')"
      ]
    },
    {
      "cell_type": "code",
      "execution_count": null,
      "metadata": {
        "colab": {
          "base_uri": "https://localhost:8080/"
        },
        "id": "fsIrHu3zSs9i",
        "outputId": "1623e159-032a-4696-ab40-8c430d508469"
      },
      "outputs": [
        {
          "name": "stdout",
          "output_type": "stream",
          "text": [
            "Collecting Keras-Preprocessing\n",
            "  Downloading Keras_Preprocessing-1.1.2-py2.py3-none-any.whl (42 kB)\n",
            "\u001b[2K     \u001b[90m━━━━━━━━━━━━━━━━━━━━━━━━━━━━━━━━━━━━━━━\u001b[0m \u001b[32m42.6/42.6 kB\u001b[0m \u001b[31m627.2 kB/s\u001b[0m eta \u001b[36m0:00:00\u001b[0m\n",
            "\u001b[?25hRequirement already satisfied: numpy>=1.9.1 in /usr/local/lib/python3.10/dist-packages (from Keras-Preprocessing) (1.23.5)\n",
            "Requirement already satisfied: six>=1.9.0 in /usr/local/lib/python3.10/dist-packages (from Keras-Preprocessing) (1.16.0)\n",
            "Installing collected packages: Keras-Preprocessing\n",
            "Successfully installed Keras-Preprocessing-1.1.2\n"
          ]
        }
      ],
      "source": [
        "!pip install Keras-Preprocessing"
      ]
    },
    {
      "cell_type": "code",
      "execution_count": null,
      "metadata": {
        "id": "c5m-VOQrSOiC"
      },
      "outputs": [],
      "source": [
        "from keras.utils import to_categorical\n",
        "from keras_preprocessing.image import load_img\n",
        "from keras.models import Sequential\n",
        "from keras.layers import Dense, Conv2D, Dropout, Flatten, MaxPooling2D\n",
        "import os\n",
        "import pandas as pd\n",
        "from sklearn.preprocessing import LabelEncoder\n",
        "import numpy as np\n"
      ]
    },
    {
      "cell_type": "code",
      "execution_count": null,
      "metadata": {
        "id": "otCzKPyfSeXo"
      },
      "outputs": [],
      "source": [
        "TRAIN_DIR = '/content/images/train'\n",
        "TEST_DIR = '/content/images/validation'"
      ]
    },
    {
      "cell_type": "code",
      "execution_count": null,
      "metadata": {
        "id": "C3_rm9GQTAIl"
      },
      "outputs": [],
      "source": [
        "def createdataframe(dir):\n",
        "    image_paths = []\n",
        "    labels = []\n",
        "    for label in os.listdir(dir):\n",
        "        for imagename in os.listdir(os.path.join(dir,label)):\n",
        "            image_paths.append(os.path.join(dir,label,imagename))\n",
        "            labels.append(label)\n",
        "        print(label, \"completed\")\n",
        "    return image_paths,labels"
      ]
    },
    {
      "cell_type": "code",
      "execution_count": null,
      "metadata": {
        "colab": {
          "base_uri": "https://localhost:8080/"
        },
        "id": "eYcS7Pz0TEmf",
        "outputId": "aa8e52e5-1c67-4f02-afdf-fe3c78462933"
      },
      "outputs": [],
      "source": [
        "train = pd.DataFrame()\n",
        "train['image'], train['label'] = createdataframe(TRAIN_DIR)"
      ]
    },
    {
      "cell_type": "code",
      "execution_count": null,
      "metadata": {
        "colab": {
          "base_uri": "https://localhost:8080/"
        },
        "id": "uIaMMhzETKuP",
        "outputId": "37bf0523-ac26-4658-f1f0-64037893a7de"
      },
      "outputs": [],
      "source": [
        "test = pd.DataFrame()\n",
        "test['image'], test['label'] = createdataframe(TEST_DIR)"
      ]
    },
    {
      "cell_type": "code",
      "execution_count": null,
      "metadata": {
        "id": "lF1PEoC3TMSL"
      },
      "outputs": [],
      "source": [
        "def extract_features(images):\n",
        "    features = []\n",
        "    for image in images:\n",
        "        img = load_img(image,grayscale =  True )\n",
        "        img = np.array(img)\n",
        "        features.append(img)\n",
        "    features = np.array(features)\n",
        "    features = features.reshape(len(features),48,48,1)\n",
        "    return features"
      ]
    },
    {
      "cell_type": "code",
      "execution_count": null,
      "metadata": {
        "colab": {
          "base_uri": "https://localhost:8080/",
          "height": 106,
          "referenced_widgets": [
            "aa74194cf52d44ae99e9af96df364067",
            "c4fa4933750d4a76851cbe9f8aab0e6a",
            "4ffc66b6678f4631a4774f60a3603af1",
            "98480494880f4cfe8bd688eda36cf0bb",
            "8c034fdff6cb49649b75fab8831a041a",
            "f9cb2c3f2a374ecdb5598a15385a1246",
            "5d709ebac8c54a0a987e9f4782a19910",
            "a1d8db956f9d4378b4fef53140334b75",
            "da7833265f6e407ab2045b3efc7c0f7e",
            "23a40e0bbef74ef09573be76b950f12b",
            "7e471edd58574dce96a1b63af7773b92"
          ]
        },
        "id": "Sb15EhXBUHAa",
        "outputId": "fafbaf9e-e5bd-471d-eea0-d388018299c1"
      },
      "outputs": [
        {
          "data": {
            "application/vnd.jupyter.widget-view+json": {
              "model_id": "aa74194cf52d44ae99e9af96df364067",
              "version_major": 2,
              "version_minor": 0
            },
            "text/plain": [
              "  0%|          | 0/28821 [00:00<?, ?it/s]"
            ]
          },
          "metadata": {},
          "output_type": "display_data"
        },
        {
          "name": "stderr",
          "output_type": "stream",
          "text": [
            "/usr/local/lib/python3.10/dist-packages/keras_preprocessing/image/utils.py:107: UserWarning: grayscale is deprecated. Please use color_mode = \"grayscale\"\n",
            "  warnings.warn('grayscale is deprecated. Please use '\n"
          ]
        }
      ],
      "source": [
        "train_features = extract_features(train['image'])"
      ]
    },
    {
      "cell_type": "code",
      "execution_count": null,
      "metadata": {
        "colab": {
          "base_uri": "https://localhost:8080/",
          "height": 49,
          "referenced_widgets": [
            "dab69048c8f542fd8e3933a778ec3cbf",
            "77d44c0e1b04402b8fff76a27b094a27",
            "38dca0dcb1394489b91b9abf7a056e4f",
            "4ce0036fedc044708677cc9549a1e9ed",
            "2b89fbac1aab4fbe8c5c4e80b65cdd65",
            "98401b334983491c9e45a889ab5a5bc3",
            "ad9aeea5ffa74bc3813c54d3dbf6bbfb",
            "938effb45d3643ba967539734fedf0f9",
            "8b9bc66e74a144e38e5b9d19090e7c06",
            "e9936abcafa74714ad755d62110fb397",
            "0de390c3992e4e2caf0b65f1e066a7ca"
          ]
        },
        "id": "42dsTw0ZUcdi",
        "outputId": "5813228c-bfa6-4d6b-fc86-f5907f198b0e"
      },
      "outputs": [
        {
          "data": {
            "application/vnd.jupyter.widget-view+json": {
              "model_id": "dab69048c8f542fd8e3933a778ec3cbf",
              "version_major": 2,
              "version_minor": 0
            },
            "text/plain": [
              "  0%|          | 0/7066 [00:00<?, ?it/s]"
            ]
          },
          "metadata": {},
          "output_type": "display_data"
        }
      ],
      "source": [
        "test_features = extract_features(test['image'])"
      ]
    },
    {
      "cell_type": "code",
      "execution_count": null,
      "metadata": {
        "id": "sB82xvc6UeNm"
      },
      "outputs": [],
      "source": [
        "x_train = train_features/255.0\n",
        "x_test = test_features/255.0"
      ]
    },
    {
      "cell_type": "code",
      "execution_count": null,
      "metadata": {
        "colab": {
          "base_uri": "https://localhost:8080/",
          "height": 74
        },
        "id": "wEpnWgw9Unev",
        "outputId": "5c450b67-7ecd-4f72-9acf-dc7365ccb895"
      },
      "outputs": [
        {
          "data": {
            "text/html": [
              "<style>#sk-container-id-1 {color: black;background-color: white;}#sk-container-id-1 pre{padding: 0;}#sk-container-id-1 div.sk-toggleable {background-color: white;}#sk-container-id-1 label.sk-toggleable__label {cursor: pointer;display: block;width: 100%;margin-bottom: 0;padding: 0.3em;box-sizing: border-box;text-align: center;}#sk-container-id-1 label.sk-toggleable__label-arrow:before {content: \"▸\";float: left;margin-right: 0.25em;color: #696969;}#sk-container-id-1 label.sk-toggleable__label-arrow:hover:before {color: black;}#sk-container-id-1 div.sk-estimator:hover label.sk-toggleable__label-arrow:before {color: black;}#sk-container-id-1 div.sk-toggleable__content {max-height: 0;max-width: 0;overflow: hidden;text-align: left;background-color: #f0f8ff;}#sk-container-id-1 div.sk-toggleable__content pre {margin: 0.2em;color: black;border-radius: 0.25em;background-color: #f0f8ff;}#sk-container-id-1 input.sk-toggleable__control:checked~div.sk-toggleable__content {max-height: 200px;max-width: 100%;overflow: auto;}#sk-container-id-1 input.sk-toggleable__control:checked~label.sk-toggleable__label-arrow:before {content: \"▾\";}#sk-container-id-1 div.sk-estimator input.sk-toggleable__control:checked~label.sk-toggleable__label {background-color: #d4ebff;}#sk-container-id-1 div.sk-label input.sk-toggleable__control:checked~label.sk-toggleable__label {background-color: #d4ebff;}#sk-container-id-1 input.sk-hidden--visually {border: 0;clip: rect(1px 1px 1px 1px);clip: rect(1px, 1px, 1px, 1px);height: 1px;margin: -1px;overflow: hidden;padding: 0;position: absolute;width: 1px;}#sk-container-id-1 div.sk-estimator {font-family: monospace;background-color: #f0f8ff;border: 1px dotted black;border-radius: 0.25em;box-sizing: border-box;margin-bottom: 0.5em;}#sk-container-id-1 div.sk-estimator:hover {background-color: #d4ebff;}#sk-container-id-1 div.sk-parallel-item::after {content: \"\";width: 100%;border-bottom: 1px solid gray;flex-grow: 1;}#sk-container-id-1 div.sk-label:hover label.sk-toggleable__label {background-color: #d4ebff;}#sk-container-id-1 div.sk-serial::before {content: \"\";position: absolute;border-left: 1px solid gray;box-sizing: border-box;top: 0;bottom: 0;left: 50%;z-index: 0;}#sk-container-id-1 div.sk-serial {display: flex;flex-direction: column;align-items: center;background-color: white;padding-right: 0.2em;padding-left: 0.2em;position: relative;}#sk-container-id-1 div.sk-item {position: relative;z-index: 1;}#sk-container-id-1 div.sk-parallel {display: flex;align-items: stretch;justify-content: center;background-color: white;position: relative;}#sk-container-id-1 div.sk-item::before, #sk-container-id-1 div.sk-parallel-item::before {content: \"\";position: absolute;border-left: 1px solid gray;box-sizing: border-box;top: 0;bottom: 0;left: 50%;z-index: -1;}#sk-container-id-1 div.sk-parallel-item {display: flex;flex-direction: column;z-index: 1;position: relative;background-color: white;}#sk-container-id-1 div.sk-parallel-item:first-child::after {align-self: flex-end;width: 50%;}#sk-container-id-1 div.sk-parallel-item:last-child::after {align-self: flex-start;width: 50%;}#sk-container-id-1 div.sk-parallel-item:only-child::after {width: 0;}#sk-container-id-1 div.sk-dashed-wrapped {border: 1px dashed gray;margin: 0 0.4em 0.5em 0.4em;box-sizing: border-box;padding-bottom: 0.4em;background-color: white;}#sk-container-id-1 div.sk-label label {font-family: monospace;font-weight: bold;display: inline-block;line-height: 1.2em;}#sk-container-id-1 div.sk-label-container {text-align: center;}#sk-container-id-1 div.sk-container {/* jupyter's `normalize.less` sets `[hidden] { display: none; }` but bootstrap.min.css set `[hidden] { display: none !important; }` so we also need the `!important` here to be able to override the default hidden behavior on the sphinx rendered scikit-learn.org. See: https://github.com/scikit-learn/scikit-learn/issues/21755 */display: inline-block !important;position: relative;}#sk-container-id-1 div.sk-text-repr-fallback {display: none;}</style><div id=\"sk-container-id-1\" class=\"sk-top-container\"><div class=\"sk-text-repr-fallback\"><pre>LabelEncoder()</pre><b>In a Jupyter environment, please rerun this cell to show the HTML representation or trust the notebook. <br />On GitHub, the HTML representation is unable to render, please try loading this page with nbviewer.org.</b></div><div class=\"sk-container\" hidden><div class=\"sk-item\"><div class=\"sk-estimator sk-toggleable\"><input class=\"sk-toggleable__control sk-hidden--visually\" id=\"sk-estimator-id-1\" type=\"checkbox\" checked><label for=\"sk-estimator-id-1\" class=\"sk-toggleable__label sk-toggleable__label-arrow\">LabelEncoder</label><div class=\"sk-toggleable__content\"><pre>LabelEncoder()</pre></div></div></div></div></div>"
            ],
            "text/plain": [
              "LabelEncoder()"
            ]
          },
          "execution_count": 16,
          "metadata": {},
          "output_type": "execute_result"
        }
      ],
      "source": [
        "labelEncoder = LabelEncoder()\n",
        "labelEncoder.fit(train['label'])"
      ]
    },
    {
      "cell_type": "code",
      "execution_count": null,
      "metadata": {
        "id": "MiA4fJQXUwzh"
      },
      "outputs": [],
      "source": [
        "y_train = labelEncoder.transform(train['label'])\n",
        "y_test = labelEncoder.transform(test['label'])"
      ]
    },
    {
      "cell_type": "code",
      "execution_count": null,
      "metadata": {
        "id": "BMV7x_cnU1pv"
      },
      "outputs": [],
      "source": [
        "y_train = to_categorical(y_train,num_classes = 7)\n",
        "y_test = to_categorical(y_test,num_classes = 7)"
      ]
    },
    {
      "cell_type": "code",
      "execution_count": null,
      "metadata": {
        "id": "cT7udpjgU80r"
      },
      "outputs": [],
      "source": [
        "model = Sequential()\n",
        "# convolutional layers\n",
        "model.add(Conv2D(128, kernel_size=(3,3), activation='relu', input_shape=(48,48,1)))\n",
        "model.add(MaxPooling2D(pool_size=(2,2)))\n",
        "model.add(Dropout(0.4))\n",
        "\n",
        "model.add(Conv2D(256, kernel_size=(3,3), activation='relu'))\n",
        "model.add(MaxPooling2D(pool_size=(2,2)))\n",
        "model.add(Dropout(0.4))\n",
        "\n",
        "model.add(Conv2D(512, kernel_size=(3,3), activation='relu'))\n",
        "model.add(MaxPooling2D(pool_size=(2,2)))\n",
        "model.add(Dropout(0.4))\n",
        "\n",
        "model.add(Conv2D(512, kernel_size=(3,3), activation='relu'))\n",
        "model.add(MaxPooling2D(pool_size=(2,2)))\n",
        "model.add(Dropout(0.4))\n",
        "\n",
        "model.add(Flatten())\n",
        "# fully connected layers\n",
        "model.add(Dense(512, activation='relu'))\n",
        "model.add(Dropout(0.4))\n",
        "model.add(Dense(256, activation='relu'))\n",
        "model.add(Dropout(0.3))\n",
        "# output layer\n",
        "model.add(Dense(7, activation='softmax'))"
      ]
    },
    {
      "cell_type": "code",
      "execution_count": null,
      "metadata": {
        "id": "R6CSPCM8VBI5"
      },
      "outputs": [],
      "source": [
        "model.compile(optimizer = 'adam', loss = 'categorical_crossentropy', metrics = 'accuracy' )"
      ]
    },
    {
      "cell_type": "code",
      "execution_count": null,
      "metadata": {
        "colab": {
          "base_uri": "https://localhost:8080/"
        },
        "id": "Sc3fFFC6VEoA",
        "outputId": "609aacfc-9911-408c-ab4a-4ca9f323bdc3"
      },
      "outputs": [
        {
          "name": "stdout",
          "output_type": "stream",
          "text": [
            "Epoch 1/100\n",
            "226/226 [==============================] - 12s 51ms/step - loss: 0.5359 - accuracy: 0.8151 - val_loss: 1.1293 - val_accuracy: 0.6339\n",
            "Epoch 2/100\n",
            "226/226 [==============================] - 11s 50ms/step - loss: 0.5305 - accuracy: 0.8140 - val_loss: 1.1120 - val_accuracy: 0.6344\n",
            "Epoch 3/100\n",
            "226/226 [==============================] - 11s 50ms/step - loss: 0.5335 - accuracy: 0.8165 - val_loss: 1.1144 - val_accuracy: 0.6378\n",
            "Epoch 4/100\n",
            "226/226 [==============================] - 11s 50ms/step - loss: 0.5364 - accuracy: 0.8125 - val_loss: 1.0840 - val_accuracy: 0.6332\n",
            "Epoch 5/100\n",
            "226/226 [==============================] - 11s 51ms/step - loss: 0.5306 - accuracy: 0.8156 - val_loss: 1.1208 - val_accuracy: 0.6371\n",
            "Epoch 6/100\n",
            "226/226 [==============================] - 12s 51ms/step - loss: 0.5139 - accuracy: 0.8198 - val_loss: 1.1094 - val_accuracy: 0.6364\n",
            "Epoch 7/100\n",
            "226/226 [==============================] - 12s 52ms/step - loss: 0.5222 - accuracy: 0.8193 - val_loss: 1.0997 - val_accuracy: 0.6380\n",
            "Epoch 8/100\n",
            "226/226 [==============================] - 11s 51ms/step - loss: 0.5215 - accuracy: 0.8196 - val_loss: 1.1143 - val_accuracy: 0.6377\n",
            "Epoch 9/100\n",
            "226/226 [==============================] - 12s 51ms/step - loss: 0.5238 - accuracy: 0.8181 - val_loss: 1.1161 - val_accuracy: 0.6370\n",
            "Epoch 10/100\n",
            "226/226 [==============================] - 12s 52ms/step - loss: 0.5140 - accuracy: 0.8218 - val_loss: 1.1288 - val_accuracy: 0.6333\n",
            "Epoch 11/100\n",
            "226/226 [==============================] - 11s 51ms/step - loss: 0.5129 - accuracy: 0.8228 - val_loss: 1.1286 - val_accuracy: 0.6343\n",
            "Epoch 12/100\n",
            "226/226 [==============================] - 11s 51ms/step - loss: 0.5152 - accuracy: 0.8216 - val_loss: 1.1083 - val_accuracy: 0.6386\n",
            "Epoch 13/100\n",
            "226/226 [==============================] - 12s 51ms/step - loss: 0.5156 - accuracy: 0.8217 - val_loss: 1.1072 - val_accuracy: 0.6352\n",
            "Epoch 14/100\n",
            "226/226 [==============================] - 12s 51ms/step - loss: 0.5123 - accuracy: 0.8239 - val_loss: 1.1326 - val_accuracy: 0.6417\n",
            "Epoch 15/100\n",
            "226/226 [==============================] - 11s 51ms/step - loss: 0.5031 - accuracy: 0.8276 - val_loss: 1.1033 - val_accuracy: 0.6361\n",
            "Epoch 16/100\n",
            "226/226 [==============================] - 11s 51ms/step - loss: 0.5058 - accuracy: 0.8232 - val_loss: 1.1315 - val_accuracy: 0.6366\n",
            "Epoch 17/100\n",
            "226/226 [==============================] - 12s 53ms/step - loss: 0.5164 - accuracy: 0.8204 - val_loss: 1.1040 - val_accuracy: 0.6427\n",
            "Epoch 18/100\n",
            "226/226 [==============================] - 11s 50ms/step - loss: 0.5001 - accuracy: 0.8278 - val_loss: 1.1405 - val_accuracy: 0.6374\n",
            "Epoch 19/100\n",
            "226/226 [==============================] - 12s 53ms/step - loss: 0.5156 - accuracy: 0.8250 - val_loss: 1.1466 - val_accuracy: 0.6393\n",
            "Epoch 20/100\n",
            "226/226 [==============================] - 11s 50ms/step - loss: 0.5003 - accuracy: 0.8267 - val_loss: 1.1388 - val_accuracy: 0.6397\n",
            "Epoch 21/100\n",
            "226/226 [==============================] - 11s 51ms/step - loss: 0.5089 - accuracy: 0.8245 - val_loss: 1.1079 - val_accuracy: 0.6319\n",
            "Epoch 22/100\n",
            "226/226 [==============================] - 11s 51ms/step - loss: 0.4959 - accuracy: 0.8254 - val_loss: 1.1250 - val_accuracy: 0.6360\n",
            "Epoch 23/100\n",
            "226/226 [==============================] - 11s 51ms/step - loss: 0.5023 - accuracy: 0.8262 - val_loss: 1.1016 - val_accuracy: 0.6336\n",
            "Epoch 24/100\n",
            "226/226 [==============================] - 11s 51ms/step - loss: 0.4990 - accuracy: 0.8266 - val_loss: 1.1294 - val_accuracy: 0.6371\n",
            "Epoch 25/100\n",
            "226/226 [==============================] - 11s 50ms/step - loss: 0.5009 - accuracy: 0.8268 - val_loss: 1.1426 - val_accuracy: 0.6404\n",
            "Epoch 26/100\n",
            "226/226 [==============================] - 11s 50ms/step - loss: 0.5024 - accuracy: 0.8284 - val_loss: 1.1215 - val_accuracy: 0.6378\n",
            "Epoch 27/100\n",
            "226/226 [==============================] - 11s 51ms/step - loss: 0.5010 - accuracy: 0.8269 - val_loss: 1.1185 - val_accuracy: 0.6318\n",
            "Epoch 28/100\n",
            "226/226 [==============================] - 11s 50ms/step - loss: 0.4882 - accuracy: 0.8289 - val_loss: 1.1184 - val_accuracy: 0.6346\n",
            "Epoch 29/100\n",
            "226/226 [==============================] - 11s 51ms/step - loss: 0.5008 - accuracy: 0.8271 - val_loss: 1.1243 - val_accuracy: 0.6285\n",
            "Epoch 30/100\n",
            "226/226 [==============================] - 11s 51ms/step - loss: 0.5045 - accuracy: 0.8281 - val_loss: 1.1067 - val_accuracy: 0.6349\n",
            "Epoch 31/100\n",
            "226/226 [==============================] - 11s 50ms/step - loss: 0.4937 - accuracy: 0.8309 - val_loss: 1.1150 - val_accuracy: 0.6377\n",
            "Epoch 32/100\n",
            "226/226 [==============================] - 11s 50ms/step - loss: 0.4968 - accuracy: 0.8292 - val_loss: 1.1358 - val_accuracy: 0.6322\n",
            "Epoch 33/100\n",
            "226/226 [==============================] - 11s 50ms/step - loss: 0.4885 - accuracy: 0.8318 - val_loss: 1.1494 - val_accuracy: 0.6296\n",
            "Epoch 34/100\n",
            "226/226 [==============================] - 11s 51ms/step - loss: 0.4720 - accuracy: 0.8371 - val_loss: 1.1524 - val_accuracy: 0.6330\n",
            "Epoch 35/100\n",
            "226/226 [==============================] - 11s 51ms/step - loss: 0.4892 - accuracy: 0.8317 - val_loss: 1.1365 - val_accuracy: 0.6363\n",
            "Epoch 36/100\n",
            "226/226 [==============================] - 11s 51ms/step - loss: 0.4877 - accuracy: 0.8315 - val_loss: 1.1646 - val_accuracy: 0.6296\n",
            "Epoch 37/100\n",
            "226/226 [==============================] - 11s 51ms/step - loss: 0.4805 - accuracy: 0.8345 - val_loss: 1.1518 - val_accuracy: 0.6336\n",
            "Epoch 38/100\n",
            "226/226 [==============================] - 11s 51ms/step - loss: 0.4888 - accuracy: 0.8334 - val_loss: 1.1370 - val_accuracy: 0.6383\n",
            "Epoch 39/100\n",
            "226/226 [==============================] - 11s 51ms/step - loss: 0.4804 - accuracy: 0.8333 - val_loss: 1.1810 - val_accuracy: 0.6308\n",
            "Epoch 40/100\n",
            "226/226 [==============================] - 11s 51ms/step - loss: 0.4773 - accuracy: 0.8360 - val_loss: 1.1330 - val_accuracy: 0.6357\n",
            "Epoch 41/100\n",
            "226/226 [==============================] - 11s 51ms/step - loss: 0.4783 - accuracy: 0.8382 - val_loss: 1.1473 - val_accuracy: 0.6344\n",
            "Epoch 42/100\n",
            "226/226 [==============================] - 11s 50ms/step - loss: 0.4785 - accuracy: 0.8349 - val_loss: 1.1531 - val_accuracy: 0.6330\n",
            "Epoch 43/100\n",
            "226/226 [==============================] - 11s 51ms/step - loss: 0.4703 - accuracy: 0.8374 - val_loss: 1.1532 - val_accuracy: 0.6361\n",
            "Epoch 44/100\n",
            "226/226 [==============================] - 11s 50ms/step - loss: 0.4668 - accuracy: 0.8416 - val_loss: 1.1470 - val_accuracy: 0.6361\n",
            "Epoch 45/100\n",
            "226/226 [==============================] - 11s 50ms/step - loss: 0.4751 - accuracy: 0.8369 - val_loss: 1.1772 - val_accuracy: 0.6352\n",
            "Epoch 46/100\n",
            "226/226 [==============================] - 11s 51ms/step - loss: 0.4796 - accuracy: 0.8368 - val_loss: 1.1143 - val_accuracy: 0.6377\n",
            "Epoch 47/100\n",
            "226/226 [==============================] - 11s 50ms/step - loss: 0.4774 - accuracy: 0.8373 - val_loss: 1.1732 - val_accuracy: 0.6377\n",
            "Epoch 48/100\n",
            "226/226 [==============================] - 11s 50ms/step - loss: 0.4647 - accuracy: 0.8430 - val_loss: 1.1451 - val_accuracy: 0.6322\n",
            "Epoch 49/100\n",
            "226/226 [==============================] - 11s 51ms/step - loss: 0.4681 - accuracy: 0.8383 - val_loss: 1.1697 - val_accuracy: 0.6371\n",
            "Epoch 50/100\n",
            "226/226 [==============================] - 11s 51ms/step - loss: 0.4678 - accuracy: 0.8408 - val_loss: 1.1609 - val_accuracy: 0.6417\n",
            "Epoch 51/100\n",
            "226/226 [==============================] - 11s 51ms/step - loss: 0.4723 - accuracy: 0.8409 - val_loss: 1.1674 - val_accuracy: 0.6363\n",
            "Epoch 52/100\n",
            "226/226 [==============================] - 11s 51ms/step - loss: 0.4703 - accuracy: 0.8400 - val_loss: 1.1285 - val_accuracy: 0.6343\n",
            "Epoch 53/100\n",
            "226/226 [==============================] - 11s 50ms/step - loss: 0.4570 - accuracy: 0.8419 - val_loss: 1.1692 - val_accuracy: 0.6337\n",
            "Epoch 54/100\n",
            "226/226 [==============================] - 11s 51ms/step - loss: 0.4600 - accuracy: 0.8440 - val_loss: 1.1560 - val_accuracy: 0.6415\n",
            "Epoch 55/100\n",
            "226/226 [==============================] - 11s 51ms/step - loss: 0.4639 - accuracy: 0.8421 - val_loss: 1.1659 - val_accuracy: 0.6349\n",
            "Epoch 56/100\n",
            "226/226 [==============================] - 11s 50ms/step - loss: 0.4625 - accuracy: 0.8406 - val_loss: 1.1638 - val_accuracy: 0.6391\n",
            "Epoch 57/100\n",
            "226/226 [==============================] - 12s 53ms/step - loss: 0.4591 - accuracy: 0.8433 - val_loss: 1.1624 - val_accuracy: 0.6223\n",
            "Epoch 58/100\n",
            "226/226 [==============================] - 11s 50ms/step - loss: 0.4765 - accuracy: 0.8401 - val_loss: 1.1348 - val_accuracy: 0.6335\n",
            "Epoch 59/100\n",
            "226/226 [==============================] - 11s 51ms/step - loss: 0.4586 - accuracy: 0.8445 - val_loss: 1.1625 - val_accuracy: 0.6378\n",
            "Epoch 60/100\n",
            "226/226 [==============================] - 12s 51ms/step - loss: 0.4533 - accuracy: 0.8460 - val_loss: 1.1713 - val_accuracy: 0.6353\n",
            "Epoch 61/100\n",
            "226/226 [==============================] - 11s 51ms/step - loss: 0.4617 - accuracy: 0.8448 - val_loss: 1.1738 - val_accuracy: 0.6363\n",
            "Epoch 62/100\n",
            "226/226 [==============================] - 11s 51ms/step - loss: 0.4565 - accuracy: 0.8446 - val_loss: 1.1734 - val_accuracy: 0.6383\n",
            "Epoch 63/100\n",
            "226/226 [==============================] - 11s 51ms/step - loss: 0.4476 - accuracy: 0.8466 - val_loss: 1.1502 - val_accuracy: 0.6394\n",
            "Epoch 64/100\n",
            "226/226 [==============================] - 11s 50ms/step - loss: 0.4485 - accuracy: 0.8488 - val_loss: 1.1727 - val_accuracy: 0.6302\n",
            "Epoch 65/100\n",
            "226/226 [==============================] - 11s 51ms/step - loss: 0.4503 - accuracy: 0.8482 - val_loss: 1.1304 - val_accuracy: 0.6436\n",
            "Epoch 66/100\n",
            "226/226 [==============================] - 11s 51ms/step - loss: 0.4593 - accuracy: 0.8441 - val_loss: 1.1527 - val_accuracy: 0.6337\n",
            "Epoch 67/100\n",
            "226/226 [==============================] - 11s 51ms/step - loss: 0.4523 - accuracy: 0.8456 - val_loss: 1.1468 - val_accuracy: 0.6377\n",
            "Epoch 68/100\n",
            "226/226 [==============================] - 11s 51ms/step - loss: 0.4474 - accuracy: 0.8471 - val_loss: 1.1658 - val_accuracy: 0.6342\n",
            "Epoch 69/100\n",
            "226/226 [==============================] - 11s 51ms/step - loss: 0.4571 - accuracy: 0.8423 - val_loss: 1.1966 - val_accuracy: 0.6353\n",
            "Epoch 70/100\n",
            "226/226 [==============================] - 11s 51ms/step - loss: 0.4477 - accuracy: 0.8469 - val_loss: 1.1632 - val_accuracy: 0.6285\n",
            "Epoch 71/100\n",
            "226/226 [==============================] - 11s 50ms/step - loss: 0.4509 - accuracy: 0.8475 - val_loss: 1.2007 - val_accuracy: 0.6371\n",
            "Epoch 72/100\n",
            "226/226 [==============================] - 11s 50ms/step - loss: 0.4377 - accuracy: 0.8511 - val_loss: 1.1841 - val_accuracy: 0.6352\n",
            "Epoch 73/100\n",
            "226/226 [==============================] - 11s 51ms/step - loss: 0.4379 - accuracy: 0.8523 - val_loss: 1.2077 - val_accuracy: 0.6367\n",
            "Epoch 74/100\n",
            "226/226 [==============================] - 11s 51ms/step - loss: 0.4449 - accuracy: 0.8476 - val_loss: 1.1683 - val_accuracy: 0.6370\n",
            "Epoch 75/100\n",
            "226/226 [==============================] - 11s 51ms/step - loss: 0.4531 - accuracy: 0.8442 - val_loss: 1.1408 - val_accuracy: 0.6398\n",
            "Epoch 76/100\n",
            "226/226 [==============================] - 11s 51ms/step - loss: 0.4359 - accuracy: 0.8529 - val_loss: 1.1746 - val_accuracy: 0.6353\n",
            "Epoch 77/100\n",
            "226/226 [==============================] - 11s 51ms/step - loss: 0.4478 - accuracy: 0.8478 - val_loss: 1.2021 - val_accuracy: 0.6370\n",
            "Epoch 78/100\n",
            "226/226 [==============================] - 11s 51ms/step - loss: 0.4421 - accuracy: 0.8518 - val_loss: 1.1916 - val_accuracy: 0.6359\n",
            "Epoch 79/100\n",
            "226/226 [==============================] - 11s 50ms/step - loss: 0.4403 - accuracy: 0.8503 - val_loss: 1.1600 - val_accuracy: 0.6369\n",
            "Epoch 80/100\n",
            "226/226 [==============================] - 11s 51ms/step - loss: 0.4395 - accuracy: 0.8499 - val_loss: 1.1690 - val_accuracy: 0.6319\n",
            "Epoch 81/100\n",
            "226/226 [==============================] - 11s 51ms/step - loss: 0.4364 - accuracy: 0.8531 - val_loss: 1.1659 - val_accuracy: 0.6337\n",
            "Epoch 82/100\n",
            "226/226 [==============================] - 11s 51ms/step - loss: 0.4351 - accuracy: 0.8535 - val_loss: 1.1827 - val_accuracy: 0.6397\n",
            "Epoch 83/100\n",
            "226/226 [==============================] - 11s 51ms/step - loss: 0.4383 - accuracy: 0.8540 - val_loss: 1.1614 - val_accuracy: 0.6394\n",
            "Epoch 84/100\n",
            "226/226 [==============================] - 11s 51ms/step - loss: 0.4355 - accuracy: 0.8545 - val_loss: 1.1619 - val_accuracy: 0.6347\n",
            "Epoch 85/100\n",
            "226/226 [==============================] - 11s 50ms/step - loss: 0.4419 - accuracy: 0.8527 - val_loss: 1.1894 - val_accuracy: 0.6296\n",
            "Epoch 86/100\n",
            "226/226 [==============================] - 11s 50ms/step - loss: 0.4324 - accuracy: 0.8546 - val_loss: 1.2044 - val_accuracy: 0.6352\n",
            "Epoch 87/100\n",
            "226/226 [==============================] - 11s 51ms/step - loss: 0.4285 - accuracy: 0.8543 - val_loss: 1.2214 - val_accuracy: 0.6329\n",
            "Epoch 88/100\n",
            "226/226 [==============================] - 11s 51ms/step - loss: 0.4390 - accuracy: 0.8539 - val_loss: 1.2151 - val_accuracy: 0.6359\n",
            "Epoch 89/100\n",
            "226/226 [==============================] - 11s 51ms/step - loss: 0.4310 - accuracy: 0.8572 - val_loss: 1.1958 - val_accuracy: 0.6288\n",
            "Epoch 90/100\n",
            "226/226 [==============================] - 12s 54ms/step - loss: 0.4272 - accuracy: 0.8542 - val_loss: 1.2113 - val_accuracy: 0.6369\n",
            "Epoch 91/100\n",
            "226/226 [==============================] - 11s 50ms/step - loss: 0.4192 - accuracy: 0.8578 - val_loss: 1.2186 - val_accuracy: 0.6319\n",
            "Epoch 92/100\n",
            "226/226 [==============================] - 11s 51ms/step - loss: 0.4373 - accuracy: 0.8534 - val_loss: 1.1929 - val_accuracy: 0.6313\n",
            "Epoch 93/100\n",
            "226/226 [==============================] - 11s 51ms/step - loss: 0.4306 - accuracy: 0.8556 - val_loss: 1.1684 - val_accuracy: 0.6356\n",
            "Epoch 94/100\n",
            "226/226 [==============================] - 11s 51ms/step - loss: 0.4279 - accuracy: 0.8552 - val_loss: 1.1485 - val_accuracy: 0.6284\n",
            "Epoch 95/100\n",
            "226/226 [==============================] - 11s 51ms/step - loss: 0.4245 - accuracy: 0.8582 - val_loss: 1.1472 - val_accuracy: 0.6349\n",
            "Epoch 96/100\n",
            "226/226 [==============================] - 11s 51ms/step - loss: 0.4221 - accuracy: 0.8568 - val_loss: 1.1714 - val_accuracy: 0.6350\n",
            "Epoch 97/100\n",
            "226/226 [==============================] - 11s 51ms/step - loss: 0.4213 - accuracy: 0.8575 - val_loss: 1.2191 - val_accuracy: 0.6325\n",
            "Epoch 98/100\n",
            "226/226 [==============================] - 12s 53ms/step - loss: 0.4239 - accuracy: 0.8536 - val_loss: 1.1946 - val_accuracy: 0.6367\n",
            "Epoch 99/100\n",
            "226/226 [==============================] - 12s 54ms/step - loss: 0.4264 - accuracy: 0.8569 - val_loss: 1.2063 - val_accuracy: 0.6367\n",
            "Epoch 100/100\n",
            "226/226 [==============================] - 11s 50ms/step - loss: 0.4201 - accuracy: 0.8598 - val_loss: 1.2047 - val_accuracy: 0.6387\n"
          ]
        },
        {
          "data": {
            "text/plain": [
              "<keras.callbacks.History at 0x7c6e0c512860>"
            ]
          },
          "execution_count": 26,
          "metadata": {},
          "output_type": "execute_result"
        }
      ],
      "source": [
        "model.fit(x= x_train,y = y_train, batch_size = 128, epochs = 250, validation_data = (x_test,y_test))"
      ]
    },
    {
      "cell_type": "code",
      "execution_count": null,
      "metadata": {
        "id": "kLehuV7IVHw0"
      },
      "outputs": [],
      "source": [
        "model_json = model.to_json()\n",
        "with open(\"emotiondetectornew1.json\",'w') as json_file:\n",
        "    json_file.write(model_json)\n",
        "model.save(\"/content/drive/MyDrive/emotiondetectornew1.h5\")"
      ]
    }
  ],
  "metadata": {
    "accelerator": "GPU",
    "colab": {
      "gpuType": "T4",
      "provenance": []
    },
    "kernelspec": {
      "display_name": "Python 3",
      "name": "python3"
    },
    "language_info": {
      "name": "python"
    },
    "widgets": {
      "application/vnd.jupyter.widget-state+json": {
        "0de390c3992e4e2caf0b65f1e066a7ca": {
          "model_module": "@jupyter-widgets/controls",
          "model_module_version": "1.5.0",
          "model_name": "DescriptionStyleModel",
          "state": {
            "_model_module": "@jupyter-widgets/controls",
            "_model_module_version": "1.5.0",
            "_model_name": "DescriptionStyleModel",
            "_view_count": null,
            "_view_module": "@jupyter-widgets/base",
            "_view_module_version": "1.2.0",
            "_view_name": "StyleView",
            "description_width": ""
          }
        },
        "23a40e0bbef74ef09573be76b950f12b": {
          "model_module": "@jupyter-widgets/base",
          "model_module_version": "1.2.0",
          "model_name": "LayoutModel",
          "state": {
            "_model_module": "@jupyter-widgets/base",
            "_model_module_version": "1.2.0",
            "_model_name": "LayoutModel",
            "_view_count": null,
            "_view_module": "@jupyter-widgets/base",
            "_view_module_version": "1.2.0",
            "_view_name": "LayoutView",
            "align_content": null,
            "align_items": null,
            "align_self": null,
            "border": null,
            "bottom": null,
            "display": null,
            "flex": null,
            "flex_flow": null,
            "grid_area": null,
            "grid_auto_columns": null,
            "grid_auto_flow": null,
            "grid_auto_rows": null,
            "grid_column": null,
            "grid_gap": null,
            "grid_row": null,
            "grid_template_areas": null,
            "grid_template_columns": null,
            "grid_template_rows": null,
            "height": null,
            "justify_content": null,
            "justify_items": null,
            "left": null,
            "margin": null,
            "max_height": null,
            "max_width": null,
            "min_height": null,
            "min_width": null,
            "object_fit": null,
            "object_position": null,
            "order": null,
            "overflow": null,
            "overflow_x": null,
            "overflow_y": null,
            "padding": null,
            "right": null,
            "top": null,
            "visibility": null,
            "width": null
          }
        },
        "2b89fbac1aab4fbe8c5c4e80b65cdd65": {
          "model_module": "@jupyter-widgets/base",
          "model_module_version": "1.2.0",
          "model_name": "LayoutModel",
          "state": {
            "_model_module": "@jupyter-widgets/base",
            "_model_module_version": "1.2.0",
            "_model_name": "LayoutModel",
            "_view_count": null,
            "_view_module": "@jupyter-widgets/base",
            "_view_module_version": "1.2.0",
            "_view_name": "LayoutView",
            "align_content": null,
            "align_items": null,
            "align_self": null,
            "border": null,
            "bottom": null,
            "display": null,
            "flex": null,
            "flex_flow": null,
            "grid_area": null,
            "grid_auto_columns": null,
            "grid_auto_flow": null,
            "grid_auto_rows": null,
            "grid_column": null,
            "grid_gap": null,
            "grid_row": null,
            "grid_template_areas": null,
            "grid_template_columns": null,
            "grid_template_rows": null,
            "height": null,
            "justify_content": null,
            "justify_items": null,
            "left": null,
            "margin": null,
            "max_height": null,
            "max_width": null,
            "min_height": null,
            "min_width": null,
            "object_fit": null,
            "object_position": null,
            "order": null,
            "overflow": null,
            "overflow_x": null,
            "overflow_y": null,
            "padding": null,
            "right": null,
            "top": null,
            "visibility": null,
            "width": null
          }
        },
        "38dca0dcb1394489b91b9abf7a056e4f": {
          "model_module": "@jupyter-widgets/controls",
          "model_module_version": "1.5.0",
          "model_name": "FloatProgressModel",
          "state": {
            "_dom_classes": [],
            "_model_module": "@jupyter-widgets/controls",
            "_model_module_version": "1.5.0",
            "_model_name": "FloatProgressModel",
            "_view_count": null,
            "_view_module": "@jupyter-widgets/controls",
            "_view_module_version": "1.5.0",
            "_view_name": "ProgressView",
            "bar_style": "success",
            "description": "",
            "description_tooltip": null,
            "layout": "IPY_MODEL_938effb45d3643ba967539734fedf0f9",
            "max": 7066,
            "min": 0,
            "orientation": "horizontal",
            "style": "IPY_MODEL_8b9bc66e74a144e38e5b9d19090e7c06",
            "value": 7066
          }
        },
        "4ce0036fedc044708677cc9549a1e9ed": {
          "model_module": "@jupyter-widgets/controls",
          "model_module_version": "1.5.0",
          "model_name": "HTMLModel",
          "state": {
            "_dom_classes": [],
            "_model_module": "@jupyter-widgets/controls",
            "_model_module_version": "1.5.0",
            "_model_name": "HTMLModel",
            "_view_count": null,
            "_view_module": "@jupyter-widgets/controls",
            "_view_module_version": "1.5.0",
            "_view_name": "HTMLView",
            "description": "",
            "description_tooltip": null,
            "layout": "IPY_MODEL_e9936abcafa74714ad755d62110fb397",
            "placeholder": "​",
            "style": "IPY_MODEL_0de390c3992e4e2caf0b65f1e066a7ca",
            "value": " 7066/7066 [00:01&lt;00:00, 7367.59it/s]"
          }
        },
        "4ffc66b6678f4631a4774f60a3603af1": {
          "model_module": "@jupyter-widgets/controls",
          "model_module_version": "1.5.0",
          "model_name": "FloatProgressModel",
          "state": {
            "_dom_classes": [],
            "_model_module": "@jupyter-widgets/controls",
            "_model_module_version": "1.5.0",
            "_model_name": "FloatProgressModel",
            "_view_count": null,
            "_view_module": "@jupyter-widgets/controls",
            "_view_module_version": "1.5.0",
            "_view_name": "ProgressView",
            "bar_style": "success",
            "description": "",
            "description_tooltip": null,
            "layout": "IPY_MODEL_a1d8db956f9d4378b4fef53140334b75",
            "max": 28821,
            "min": 0,
            "orientation": "horizontal",
            "style": "IPY_MODEL_da7833265f6e407ab2045b3efc7c0f7e",
            "value": 28821
          }
        },
        "5d709ebac8c54a0a987e9f4782a19910": {
          "model_module": "@jupyter-widgets/controls",
          "model_module_version": "1.5.0",
          "model_name": "DescriptionStyleModel",
          "state": {
            "_model_module": "@jupyter-widgets/controls",
            "_model_module_version": "1.5.0",
            "_model_name": "DescriptionStyleModel",
            "_view_count": null,
            "_view_module": "@jupyter-widgets/base",
            "_view_module_version": "1.2.0",
            "_view_name": "StyleView",
            "description_width": ""
          }
        },
        "77d44c0e1b04402b8fff76a27b094a27": {
          "model_module": "@jupyter-widgets/controls",
          "model_module_version": "1.5.0",
          "model_name": "HTMLModel",
          "state": {
            "_dom_classes": [],
            "_model_module": "@jupyter-widgets/controls",
            "_model_module_version": "1.5.0",
            "_model_name": "HTMLModel",
            "_view_count": null,
            "_view_module": "@jupyter-widgets/controls",
            "_view_module_version": "1.5.0",
            "_view_name": "HTMLView",
            "description": "",
            "description_tooltip": null,
            "layout": "IPY_MODEL_98401b334983491c9e45a889ab5a5bc3",
            "placeholder": "​",
            "style": "IPY_MODEL_ad9aeea5ffa74bc3813c54d3dbf6bbfb",
            "value": "100%"
          }
        },
        "7e471edd58574dce96a1b63af7773b92": {
          "model_module": "@jupyter-widgets/controls",
          "model_module_version": "1.5.0",
          "model_name": "DescriptionStyleModel",
          "state": {
            "_model_module": "@jupyter-widgets/controls",
            "_model_module_version": "1.5.0",
            "_model_name": "DescriptionStyleModel",
            "_view_count": null,
            "_view_module": "@jupyter-widgets/base",
            "_view_module_version": "1.2.0",
            "_view_name": "StyleView",
            "description_width": ""
          }
        },
        "8b9bc66e74a144e38e5b9d19090e7c06": {
          "model_module": "@jupyter-widgets/controls",
          "model_module_version": "1.5.0",
          "model_name": "ProgressStyleModel",
          "state": {
            "_model_module": "@jupyter-widgets/controls",
            "_model_module_version": "1.5.0",
            "_model_name": "ProgressStyleModel",
            "_view_count": null,
            "_view_module": "@jupyter-widgets/base",
            "_view_module_version": "1.2.0",
            "_view_name": "StyleView",
            "bar_color": null,
            "description_width": ""
          }
        },
        "8c034fdff6cb49649b75fab8831a041a": {
          "model_module": "@jupyter-widgets/base",
          "model_module_version": "1.2.0",
          "model_name": "LayoutModel",
          "state": {
            "_model_module": "@jupyter-widgets/base",
            "_model_module_version": "1.2.0",
            "_model_name": "LayoutModel",
            "_view_count": null,
            "_view_module": "@jupyter-widgets/base",
            "_view_module_version": "1.2.0",
            "_view_name": "LayoutView",
            "align_content": null,
            "align_items": null,
            "align_self": null,
            "border": null,
            "bottom": null,
            "display": null,
            "flex": null,
            "flex_flow": null,
            "grid_area": null,
            "grid_auto_columns": null,
            "grid_auto_flow": null,
            "grid_auto_rows": null,
            "grid_column": null,
            "grid_gap": null,
            "grid_row": null,
            "grid_template_areas": null,
            "grid_template_columns": null,
            "grid_template_rows": null,
            "height": null,
            "justify_content": null,
            "justify_items": null,
            "left": null,
            "margin": null,
            "max_height": null,
            "max_width": null,
            "min_height": null,
            "min_width": null,
            "object_fit": null,
            "object_position": null,
            "order": null,
            "overflow": null,
            "overflow_x": null,
            "overflow_y": null,
            "padding": null,
            "right": null,
            "top": null,
            "visibility": null,
            "width": null
          }
        },
        "938effb45d3643ba967539734fedf0f9": {
          "model_module": "@jupyter-widgets/base",
          "model_module_version": "1.2.0",
          "model_name": "LayoutModel",
          "state": {
            "_model_module": "@jupyter-widgets/base",
            "_model_module_version": "1.2.0",
            "_model_name": "LayoutModel",
            "_view_count": null,
            "_view_module": "@jupyter-widgets/base",
            "_view_module_version": "1.2.0",
            "_view_name": "LayoutView",
            "align_content": null,
            "align_items": null,
            "align_self": null,
            "border": null,
            "bottom": null,
            "display": null,
            "flex": null,
            "flex_flow": null,
            "grid_area": null,
            "grid_auto_columns": null,
            "grid_auto_flow": null,
            "grid_auto_rows": null,
            "grid_column": null,
            "grid_gap": null,
            "grid_row": null,
            "grid_template_areas": null,
            "grid_template_columns": null,
            "grid_template_rows": null,
            "height": null,
            "justify_content": null,
            "justify_items": null,
            "left": null,
            "margin": null,
            "max_height": null,
            "max_width": null,
            "min_height": null,
            "min_width": null,
            "object_fit": null,
            "object_position": null,
            "order": null,
            "overflow": null,
            "overflow_x": null,
            "overflow_y": null,
            "padding": null,
            "right": null,
            "top": null,
            "visibility": null,
            "width": null
          }
        },
        "98401b334983491c9e45a889ab5a5bc3": {
          "model_module": "@jupyter-widgets/base",
          "model_module_version": "1.2.0",
          "model_name": "LayoutModel",
          "state": {
            "_model_module": "@jupyter-widgets/base",
            "_model_module_version": "1.2.0",
            "_model_name": "LayoutModel",
            "_view_count": null,
            "_view_module": "@jupyter-widgets/base",
            "_view_module_version": "1.2.0",
            "_view_name": "LayoutView",
            "align_content": null,
            "align_items": null,
            "align_self": null,
            "border": null,
            "bottom": null,
            "display": null,
            "flex": null,
            "flex_flow": null,
            "grid_area": null,
            "grid_auto_columns": null,
            "grid_auto_flow": null,
            "grid_auto_rows": null,
            "grid_column": null,
            "grid_gap": null,
            "grid_row": null,
            "grid_template_areas": null,
            "grid_template_columns": null,
            "grid_template_rows": null,
            "height": null,
            "justify_content": null,
            "justify_items": null,
            "left": null,
            "margin": null,
            "max_height": null,
            "max_width": null,
            "min_height": null,
            "min_width": null,
            "object_fit": null,
            "object_position": null,
            "order": null,
            "overflow": null,
            "overflow_x": null,
            "overflow_y": null,
            "padding": null,
            "right": null,
            "top": null,
            "visibility": null,
            "width": null
          }
        },
        "98480494880f4cfe8bd688eda36cf0bb": {
          "model_module": "@jupyter-widgets/controls",
          "model_module_version": "1.5.0",
          "model_name": "HTMLModel",
          "state": {
            "_dom_classes": [],
            "_model_module": "@jupyter-widgets/controls",
            "_model_module_version": "1.5.0",
            "_model_name": "HTMLModel",
            "_view_count": null,
            "_view_module": "@jupyter-widgets/controls",
            "_view_module_version": "1.5.0",
            "_view_name": "HTMLView",
            "description": "",
            "description_tooltip": null,
            "layout": "IPY_MODEL_23a40e0bbef74ef09573be76b950f12b",
            "placeholder": "​",
            "style": "IPY_MODEL_7e471edd58574dce96a1b63af7773b92",
            "value": " 28821/28821 [00:04&lt;00:00, 7139.31it/s]"
          }
        },
        "a1d8db956f9d4378b4fef53140334b75": {
          "model_module": "@jupyter-widgets/base",
          "model_module_version": "1.2.0",
          "model_name": "LayoutModel",
          "state": {
            "_model_module": "@jupyter-widgets/base",
            "_model_module_version": "1.2.0",
            "_model_name": "LayoutModel",
            "_view_count": null,
            "_view_module": "@jupyter-widgets/base",
            "_view_module_version": "1.2.0",
            "_view_name": "LayoutView",
            "align_content": null,
            "align_items": null,
            "align_self": null,
            "border": null,
            "bottom": null,
            "display": null,
            "flex": null,
            "flex_flow": null,
            "grid_area": null,
            "grid_auto_columns": null,
            "grid_auto_flow": null,
            "grid_auto_rows": null,
            "grid_column": null,
            "grid_gap": null,
            "grid_row": null,
            "grid_template_areas": null,
            "grid_template_columns": null,
            "grid_template_rows": null,
            "height": null,
            "justify_content": null,
            "justify_items": null,
            "left": null,
            "margin": null,
            "max_height": null,
            "max_width": null,
            "min_height": null,
            "min_width": null,
            "object_fit": null,
            "object_position": null,
            "order": null,
            "overflow": null,
            "overflow_x": null,
            "overflow_y": null,
            "padding": null,
            "right": null,
            "top": null,
            "visibility": null,
            "width": null
          }
        },
        "aa74194cf52d44ae99e9af96df364067": {
          "model_module": "@jupyter-widgets/controls",
          "model_module_version": "1.5.0",
          "model_name": "HBoxModel",
          "state": {
            "_dom_classes": [],
            "_model_module": "@jupyter-widgets/controls",
            "_model_module_version": "1.5.0",
            "_model_name": "HBoxModel",
            "_view_count": null,
            "_view_module": "@jupyter-widgets/controls",
            "_view_module_version": "1.5.0",
            "_view_name": "HBoxView",
            "box_style": "",
            "children": [
              "IPY_MODEL_c4fa4933750d4a76851cbe9f8aab0e6a",
              "IPY_MODEL_4ffc66b6678f4631a4774f60a3603af1",
              "IPY_MODEL_98480494880f4cfe8bd688eda36cf0bb"
            ],
            "layout": "IPY_MODEL_8c034fdff6cb49649b75fab8831a041a"
          }
        },
        "ad9aeea5ffa74bc3813c54d3dbf6bbfb": {
          "model_module": "@jupyter-widgets/controls",
          "model_module_version": "1.5.0",
          "model_name": "DescriptionStyleModel",
          "state": {
            "_model_module": "@jupyter-widgets/controls",
            "_model_module_version": "1.5.0",
            "_model_name": "DescriptionStyleModel",
            "_view_count": null,
            "_view_module": "@jupyter-widgets/base",
            "_view_module_version": "1.2.0",
            "_view_name": "StyleView",
            "description_width": ""
          }
        },
        "c4fa4933750d4a76851cbe9f8aab0e6a": {
          "model_module": "@jupyter-widgets/controls",
          "model_module_version": "1.5.0",
          "model_name": "HTMLModel",
          "state": {
            "_dom_classes": [],
            "_model_module": "@jupyter-widgets/controls",
            "_model_module_version": "1.5.0",
            "_model_name": "HTMLModel",
            "_view_count": null,
            "_view_module": "@jupyter-widgets/controls",
            "_view_module_version": "1.5.0",
            "_view_name": "HTMLView",
            "description": "",
            "description_tooltip": null,
            "layout": "IPY_MODEL_f9cb2c3f2a374ecdb5598a15385a1246",
            "placeholder": "​",
            "style": "IPY_MODEL_5d709ebac8c54a0a987e9f4782a19910",
            "value": "100%"
          }
        },
        "da7833265f6e407ab2045b3efc7c0f7e": {
          "model_module": "@jupyter-widgets/controls",
          "model_module_version": "1.5.0",
          "model_name": "ProgressStyleModel",
          "state": {
            "_model_module": "@jupyter-widgets/controls",
            "_model_module_version": "1.5.0",
            "_model_name": "ProgressStyleModel",
            "_view_count": null,
            "_view_module": "@jupyter-widgets/base",
            "_view_module_version": "1.2.0",
            "_view_name": "StyleView",
            "bar_color": null,
            "description_width": ""
          }
        },
        "dab69048c8f542fd8e3933a778ec3cbf": {
          "model_module": "@jupyter-widgets/controls",
          "model_module_version": "1.5.0",
          "model_name": "HBoxModel",
          "state": {
            "_dom_classes": [],
            "_model_module": "@jupyter-widgets/controls",
            "_model_module_version": "1.5.0",
            "_model_name": "HBoxModel",
            "_view_count": null,
            "_view_module": "@jupyter-widgets/controls",
            "_view_module_version": "1.5.0",
            "_view_name": "HBoxView",
            "box_style": "",
            "children": [
              "IPY_MODEL_77d44c0e1b04402b8fff76a27b094a27",
              "IPY_MODEL_38dca0dcb1394489b91b9abf7a056e4f",
              "IPY_MODEL_4ce0036fedc044708677cc9549a1e9ed"
            ],
            "layout": "IPY_MODEL_2b89fbac1aab4fbe8c5c4e80b65cdd65"
          }
        },
        "e9936abcafa74714ad755d62110fb397": {
          "model_module": "@jupyter-widgets/base",
          "model_module_version": "1.2.0",
          "model_name": "LayoutModel",
          "state": {
            "_model_module": "@jupyter-widgets/base",
            "_model_module_version": "1.2.0",
            "_model_name": "LayoutModel",
            "_view_count": null,
            "_view_module": "@jupyter-widgets/base",
            "_view_module_version": "1.2.0",
            "_view_name": "LayoutView",
            "align_content": null,
            "align_items": null,
            "align_self": null,
            "border": null,
            "bottom": null,
            "display": null,
            "flex": null,
            "flex_flow": null,
            "grid_area": null,
            "grid_auto_columns": null,
            "grid_auto_flow": null,
            "grid_auto_rows": null,
            "grid_column": null,
            "grid_gap": null,
            "grid_row": null,
            "grid_template_areas": null,
            "grid_template_columns": null,
            "grid_template_rows": null,
            "height": null,
            "justify_content": null,
            "justify_items": null,
            "left": null,
            "margin": null,
            "max_height": null,
            "max_width": null,
            "min_height": null,
            "min_width": null,
            "object_fit": null,
            "object_position": null,
            "order": null,
            "overflow": null,
            "overflow_x": null,
            "overflow_y": null,
            "padding": null,
            "right": null,
            "top": null,
            "visibility": null,
            "width": null
          }
        },
        "f9cb2c3f2a374ecdb5598a15385a1246": {
          "model_module": "@jupyter-widgets/base",
          "model_module_version": "1.2.0",
          "model_name": "LayoutModel",
          "state": {
            "_model_module": "@jupyter-widgets/base",
            "_model_module_version": "1.2.0",
            "_model_name": "LayoutModel",
            "_view_count": null,
            "_view_module": "@jupyter-widgets/base",
            "_view_module_version": "1.2.0",
            "_view_name": "LayoutView",
            "align_content": null,
            "align_items": null,
            "align_self": null,
            "border": null,
            "bottom": null,
            "display": null,
            "flex": null,
            "flex_flow": null,
            "grid_area": null,
            "grid_auto_columns": null,
            "grid_auto_flow": null,
            "grid_auto_rows": null,
            "grid_column": null,
            "grid_gap": null,
            "grid_row": null,
            "grid_template_areas": null,
            "grid_template_columns": null,
            "grid_template_rows": null,
            "height": null,
            "justify_content": null,
            "justify_items": null,
            "left": null,
            "margin": null,
            "max_height": null,
            "max_width": null,
            "min_height": null,
            "min_width": null,
            "object_fit": null,
            "object_position": null,
            "order": null,
            "overflow": null,
            "overflow_x": null,
            "overflow_y": null,
            "padding": null,
            "right": null,
            "top": null,
            "visibility": null,
            "width": null
          }
        }
      }
    }
  },
  "nbformat": 4,
  "nbformat_minor": 0
}
